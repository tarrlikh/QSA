{
 "cells": [
  {
   "cell_type": "code",
   "execution_count": 1,
   "metadata": {},
   "outputs": [],
   "source": []
  },
  {
   "cell_type": "code",
   "execution_count": 3,
   "metadata": {},
   "outputs": [
    {
     "data": {
      "text/plain": [
       "[[[0, 2], [1, 1], [2, 1], [3, 1], [4, 1], [5, 1]]]"
      ]
     },
     "execution_count": 3,
     "metadata": {},
     "output_type": "execute_result"
    }
   ],
   "source": [
    "ans.k0QSA(6)"
   ]
  },
  {
   "cell_type": "code",
   "execution_count": 11,
   "metadata": {},
   "outputs": [
    {
     "name": "stdout",
     "output_type": "stream",
     "text": [
      "[[ 0.87758256+0.j  0.        +0.j  0.        +0.j  0.47942554+0.j]\n",
      " [ 0.        +0.j  0.87758256+0.j  0.47942554+0.j  0.        +0.j]\n",
      " [ 0.        +0.j -0.47942554+0.j  0.87758256+0.j  0.        +0.j]\n",
      " [-0.47942554+0.j  0.        +0.j  0.        +0.j  0.87758256+0.j]]\n"
     ]
    }
   ],
   "source": [
    "print(ans.ansatz_operator(ans.k0QSA(2),[0.5]))"
   ]
  },
  {
   "cell_type": "code",
   "execution_count": 1,
   "metadata": {},
   "outputs": [],
   "source": [
    "import numpy as np\n",
    "import elementaries as el\n",
    "import ansatzes as ans\n",
    "from scipy.optimize import minimize\n",
    "import optimization as opt"
   ]
  },
  {
   "cell_type": "code",
   "execution_count": 2,
   "metadata": {},
   "outputs": [
    {
     "name": "stdout",
     "output_type": "stream",
     "text": [
      "[1. 0. 0. 0. 0. 0. 0. 0.]\n"
     ]
    }
   ],
   "source": [
    "vac1=np.zeros(2**el.number_of_qubits)\n",
    "vac1[0]=1\n",
    "print(vac1)"
   ]
  },
  {
   "cell_type": "code",
   "execution_count": 3,
   "metadata": {},
   "outputs": [
    {
     "name": "stdout",
     "output_type": "stream",
     "text": [
      "[0.38870712 0.34987938 0.03120653 0.54535593 0.35663019 0.40505839\n",
      " 0.35542503 0.10256663]\n"
     ]
    }
   ],
   "source": [
    "vac2=np.random.rand(2**el.number_of_qubits)\n",
    "vac2=vac2/np.linalg.norm(vac2)\n",
    "print(vac2)"
   ]
  },
  {
   "cell_type": "code",
   "execution_count": 7,
   "metadata": {},
   "outputs": [
    {
     "data": {
      "text/plain": [
       "      fun: -0.9999999999783453\n",
       " hess_inv: array([[ 2.16303259e+00, -4.61089091e-01, -1.09212173e+00,\n",
       "         4.98541438e-01,  9.07890210e-02, -1.24601687e+00,\n",
       "        -2.27994691e-01],\n",
       "       [-4.61089091e-01,  1.54440879e+00,  3.52771334e-01,\n",
       "         7.17888578e-04, -9.29941949e-01,  2.02628255e-01,\n",
       "         1.19823194e-01],\n",
       "       [-1.09212173e+00,  3.52771334e-01,  1.95396622e+00,\n",
       "        -1.09850081e+00,  6.31697492e-02,  5.77031814e-01,\n",
       "         2.73613633e-01],\n",
       "       [ 4.98541438e-01,  7.17888578e-04, -1.09850081e+00,\n",
       "         1.69054566e+00, -4.85132956e-01, -3.38848707e-01,\n",
       "        -1.60953505e-01],\n",
       "       [ 9.07890210e-02, -9.29941949e-01,  6.31697492e-02,\n",
       "        -4.85132956e-01,  1.67348587e+00, -5.33314099e-02,\n",
       "        -4.99122458e-02],\n",
       "       [-1.24601687e+00,  2.02628255e-01,  5.77031814e-01,\n",
       "        -3.38848707e-01, -5.33314099e-02,  1.74777423e+00,\n",
       "         1.16262268e-01],\n",
       "       [-2.27994691e-01,  1.19823194e-01,  2.73613633e-01,\n",
       "        -1.60953505e-01, -4.99122458e-02,  1.16262268e-01,\n",
       "         1.03084176e+00]])\n",
       "      jac: array([2.16066837e-06, 3.84449959e-06, 3.62098217e-06, 3.02493572e-06,\n",
       "       1.92970037e-06, 1.75833702e-06, 7.15255737e-07])\n",
       "  message: 'Optimization terminated successfully.'\n",
       "     nfev: 288\n",
       "      nit: 25\n",
       "     njev: 32\n",
       "   status: 0\n",
       "  success: True\n",
       "        x: array([-0.65898632, -0.69903153, -0.92317446,  0.07634042,  0.21357856,\n",
       "       -0.17497151,  0.31181536])"
      ]
     },
     "execution_count": 7,
     "metadata": {},
     "output_type": "execute_result"
    }
   ],
   "source": [
    "opt.maximize_fidelity(ans.kQSA(3),vac2)"
   ]
  },
  {
   "cell_type": "code",
   "execution_count": 5,
   "metadata": {},
   "outputs": [
    {
     "data": {
      "text/plain": [
       "array([1., 0., 0., 0., 0., 0., 0., 0., 0.])"
      ]
     },
     "execution_count": 5,
     "metadata": {},
     "output_type": "execute_result"
    }
   ],
   "source": [
    "el.starting_state()"
   ]
  },
  {
   "cell_type": "code",
   "execution_count": 28,
   "metadata": {},
   "outputs": [
    {
     "data": {
      "text/plain": [
       "      fun: -0.9999999999999998\n",
       " hess_inv: array([[0.50013204]])\n",
       "      jac: array([-1.49011612e-08])\n",
       "  message: 'Optimization terminated successfully.'\n",
       "     nfev: 45\n",
       "      nit: 3\n",
       "     njev: 15\n",
       "   status: 0\n",
       "  success: True\n",
       "        x: array([42.41150081])"
      ]
     },
     "execution_count": 28,
     "metadata": {},
     "output_type": "execute_result"
    }
   ],
   "source": []
  },
  {
   "cell_type": "code",
   "execution_count": 17,
   "metadata": {},
   "outputs": [
    {
     "data": {
      "text/plain": [
       "1.0"
      ]
     },
     "execution_count": 17,
     "metadata": {},
     "output_type": "execute_result"
    }
   ],
   "source": [
    "np.real(1+2*1j)"
   ]
  },
  {
   "cell_type": "code",
   "execution_count": null,
   "metadata": {},
   "outputs": [],
   "source": []
  }
 ],
 "metadata": {
  "kernelspec": {
   "display_name": "Python [conda env:test]",
   "language": "python",
   "name": "conda-env-test-py"
  },
  "language_info": {
   "codemirror_mode": {
    "name": "ipython",
    "version": 3
   },
   "file_extension": ".py",
   "mimetype": "text/x-python",
   "name": "python",
   "nbconvert_exporter": "python",
   "pygments_lexer": "ipython3",
   "version": "3.6.4"
  }
 },
 "nbformat": 4,
 "nbformat_minor": 2
}
