{
 "cells": [
  {
   "cell_type": "code",
   "execution_count": 10,
   "metadata": {},
   "outputs": [],
   "source": [
    "import numpy as np\n",
    "import elementaries as el\n",
    "import ansatzes as ans\n",
    "from scipy.optimize import minimize\n",
    "import optimization as opt"
   ]
  },
  {
   "cell_type": "code",
   "execution_count": 2,
   "metadata": {},
   "outputs": [
    {
     "name": "stdout",
     "output_type": "stream",
     "text": [
      "[1. 0. 0. 0. 0. 0. 0. 0. 0. 0. 0. 0. 0. 0. 0. 0. 0. 0. 0. 0. 0. 0. 0. 0.\n",
      " 0. 0. 0. 0. 0. 0. 0. 0.]\n"
     ]
    }
   ],
   "source": [
    "vac2=np.zeros(2**el.number_of_qubits)\n",
    "vac2[0]=1\n",
    "print(vac2)"
   ]
  },
  {
   "cell_type": "code",
   "execution_count": 11,
   "metadata": {},
   "outputs": [
    {
     "name": "stdout",
     "output_type": "stream",
     "text": [
      "[[1.]]\n"
     ]
    }
   ],
   "source": [
    "vac2=np.random.rand(2**el.number_of_qubits)\n",
    "vac2=vac2/np.linalg.norm(vac2)\n",
    "\n",
    "observable=np.transpose([vac2]).dot(np.array([vac2]))\n",
    "\n",
    "print(np.array([vac2]).dot(observable.dot(np.transpose([vac2]))))"
   ]
  },
  {
   "cell_type": "code",
   "execution_count": 13,
   "metadata": {},
   "outputs": [
    {
     "name": "stdout",
     "output_type": "stream",
     "text": [
      "-0.9984723751567247 252 263\n"
     ]
    }
   ],
   "source": [
    "shss=opt.optimize_fidelity_hessianmethods(ans.kQSA(5), vac2, None)\n",
    "\n",
    "print(shss.fun, shss.nit, shss.nfev)"
   ]
  },
  {
   "cell_type": "code",
   "execution_count": null,
   "metadata": {},
   "outputs": [],
   "source": [
    "print(shss)"
   ]
  },
  {
   "cell_type": "code",
   "execution_count": 14,
   "metadata": {},
   "outputs": [
    {
     "name": "stdout",
     "output_type": "stream",
     "text": [
      "-0.9984723603315613 231 8019\n"
     ]
    }
   ],
   "source": [
    "snhss=opt.optimize_fidelity_nonhessianmethods(ans.kQSA(5), vac2, None)\n",
    "\n",
    "print(snhss.fun,snhss.nit, snhss.nfev)\n",
    "# print(snhss)"
   ]
  },
  {
   "cell_type": "code",
   "execution_count": null,
   "metadata": {},
   "outputs": [],
   "source": [
    "first, sec= ans.hessian_preparation(ans.kQSA(1)+ans.k0QSA(4))"
   ]
  },
  {
   "cell_type": "code",
   "execution_count": null,
   "metadata": {},
   "outputs": [],
   "source": [
    "print(sec[4][2], sec[2][4])"
   ]
  },
  {
   "cell_type": "code",
   "execution_count": null,
   "metadata": {},
   "outputs": [],
   "source": [
    "lis2"
   ]
  },
  {
   "cell_type": "code",
   "execution_count": null,
   "metadata": {},
   "outputs": [],
   "source": [
    "func=lambda x: x[0]**2 + x[1]**2\n",
    "minimize(func, [1,1], jac=lambda x: np.array([2*x[0],2*x[1]]), hess=lambda x: np.array([[2,0],[0,2]]), method='trust-ncg')"
   ]
  },
  {
   "cell_type": "code",
   "execution_count": null,
   "metadata": {},
   "outputs": [],
   "source": []
  },
  {
   "cell_type": "code",
   "execution_count": null,
   "metadata": {},
   "outputs": [],
   "source": []
  }
 ],
 "metadata": {
  "kernelspec": {
   "display_name": "Python [conda env:test]",
   "language": "python",
   "name": "conda-env-test-py"
  },
  "language_info": {
   "codemirror_mode": {
    "name": "ipython",
    "version": 3
   },
   "file_extension": ".py",
   "mimetype": "text/x-python",
   "name": "python",
   "nbconvert_exporter": "python",
   "pygments_lexer": "ipython3",
   "version": "3.6.4"
  }
 },
 "nbformat": 4,
 "nbformat_minor": 2
}
