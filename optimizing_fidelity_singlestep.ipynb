{
 "cells": [
  {
   "cell_type": "code",
   "execution_count": 30,
   "metadata": {},
   "outputs": [],
   "source": [
    "import numpy as np\n",
    "import elementaries as el\n",
    "import ansatzes as ans\n",
    "import optimization as opt\n",
    "import hamiltonians as ham\n",
    "from scipy.optimize import minimize\n",
    "import random"
   ]
  },
  {
   "cell_type": "code",
   "execution_count": 97,
   "metadata": {},
   "outputs": [],
   "source": [
    "z_generators=ham.single_qubit_paulis(3)\n",
    "z_magnitude=1\n",
    "xx_generators=ham.two_qubit_strings(1,1)\n",
    "xx_disorder_strength=0.1/el.number_of_qubits\n",
    "\n",
    "hamiltonian_z=ham.constant_subhamiltonian(z_magnitude,z_generators)\n",
    "hamiltonian_xx=ham.random_subhamiltonian(xx_disorder_strength,xx_generators)\n",
    "\n",
    "hamiltonian=hamiltonian_z+hamiltonian_xx\n",
    "GS_energy=min(np.linalg.eig(hamiltonian)[0])\n",
    "GS_state=np.linalg.eig(hamiltonian)[1][1]\n",
    "GS_state=GS_state/np.linalg.norm(GS_state)"
   ]
  },
  {
   "cell_type": "code",
   "execution_count": 98,
   "metadata": {},
   "outputs": [
    {
     "name": "stdout",
     "output_type": "stream",
     "text": [
      "[ 6.00053598e+00+0.j -6.00053135e+00+0.j  3.98387947e+00+0.j\n",
      "  4.01446042e+00+0.j  3.99272683e+00+0.j  4.00830036e+00+0.j\n",
      "  4.00341426e+00+0.j  3.99935799e+00+0.j -4.01701856e+00+0.j\n",
      " -3.98614448e+00+0.j -4.00761777e+00+0.j -4.00149608e+00+0.j\n",
      " -3.99257220e+00+0.j -3.99728096e+00+0.j  1.97591282e+00+0.j\n",
      "  2.02291194e+00+0.j  1.98037602e+00+0.j  1.98709029e+00+0.j\n",
      "  2.01597602e+00+0.j  1.99087279e+00+0.j  2.01112575e+00+0.j\n",
      "  2.01077214e+00+0.j  2.00870347e+00+0.j  2.00628147e+00+0.j\n",
      "  1.99354390e+00+0.j  1.99650233e+00+0.j  2.00238537e+00+0.j\n",
      "  1.99973561e+00+0.j  2.00047615e+00+0.j -2.02466516e+00+0.j\n",
      " -1.97741061e+00+0.j -2.01969313e+00+0.j -2.01353840e+00+0.j\n",
      " -1.98436831e+00+0.j -2.00929591e+00+0.j -2.00670934e+00+0.j\n",
      " -1.98929173e+00+0.j -1.98966527e+00+0.j -1.99161223e+00+0.j\n",
      " -1.99395525e+00+0.j -2.00391537e+00+0.j -2.00073143e+00+0.j\n",
      " -1.99976007e+00+0.j -1.99805849e+00+0.j  2.49513615e-02+0.j\n",
      " -2.59358649e-02+0.j -2.40784664e-02+0.j  2.01093342e-02+0.j\n",
      " -1.53167493e-02+0.j -1.64330574e-02+0.j -8.90397284e-03+0.j\n",
      "  1.41134752e-02+0.j  1.22111642e-02+0.j  1.18627430e-02+0.j\n",
      " -7.47474658e-03+0.j -3.95808240e-03+0.j -4.14994796e-03+0.j\n",
      " -2.92868706e-03+0.j -1.48971588e-03+0.j  8.32874624e-03+0.j\n",
      "  3.45994356e-03+0.j  3.87989026e-03+0.j  5.80526750e-03+0.j\n",
      "  5.93809789e-03+0.j]\n"
     ]
    }
   ],
   "source": [
    "print(np.linalg.eig(hamiltonian)[0])"
   ]
  },
  {
   "cell_type": "code",
   "execution_count": 2,
   "metadata": {
    "scrolled": true
   },
   "outputs": [
    {
     "name": "stdout",
     "output_type": "stream",
     "text": [
      "[0.99470868 0.04991742 0.08829613 0.01633055]\n"
     ]
    }
   ],
   "source": [
    "vac=np.zeros(2**el.number_of_qubits)\n",
    "vac[0]=1\n",
    "vac+=0.2*np.random.rand(2**el.number_of_qubits)\n",
    "vac=vac/np.linalg.norm(vac)\n",
    "\n",
    "print(vac)"
   ]
  },
  {
   "cell_type": "code",
   "execution_count": 99,
   "metadata": {},
   "outputs": [
    {
     "name": "stdout",
     "output_type": "stream",
     "text": [
      "-0.7976172268979529 1357\n"
     ]
    }
   ],
   "source": [
    "result2=opt.optimize_fidelity(ans.kQSA(2),GS_state,None)\n",
    "\n",
    "print(result2.fun, result2.nfev)"
   ]
  },
  {
   "cell_type": "code",
   "execution_count": 102,
   "metadata": {},
   "outputs": [
    {
     "name": "stdout",
     "output_type": "stream",
     "text": [
      "-0.9999553473647899 6468\n"
     ]
    }
   ],
   "source": [
    "result22=opt.optimize_fidelity((ans.kQSA(2)+ans.kQSA(2)),GS_state,None)\n",
    "\n",
    "print(result22.fun, result22.nfev)"
   ]
  },
  {
   "cell_type": "code",
   "execution_count": 111,
   "metadata": {},
   "outputs": [
    {
     "name": "stdout",
     "output_type": "stream",
     "text": [
      "-0.9999971878142886 39520\n"
     ]
    }
   ],
   "source": [
    "result222=opt.optimize_fidelity((ans.kQSA(2)+ans.kQSA(2)+ans.kQSA(2)),GS_state,None)\n",
    "\n",
    "print(result222.fun, result222.nfev)"
   ]
  },
  {
   "cell_type": "code",
   "execution_count": 103,
   "metadata": {},
   "outputs": [
    {
     "name": "stdout",
     "output_type": "stream",
     "text": [
      "-0.9999631940747893 1634\n"
     ]
    }
   ],
   "source": [
    "result3=opt.optimize_fidelity(ans.kQSA(3),GS_state,None)\n",
    "\n",
    "print(result3.fun, result3.nfev)"
   ]
  },
  {
   "cell_type": "code",
   "execution_count": 112,
   "metadata": {},
   "outputs": [
    {
     "name": "stdout",
     "output_type": "stream",
     "text": [
      "-0.9999984543086051 4002\n"
     ]
    }
   ],
   "source": [
    "result4=opt.optimize_fidelity(ans.kQSA(4),GS_state,None)\n",
    "\n",
    "print(result4.fun, result4.nfev)"
   ]
  },
  {
   "cell_type": "code",
   "execution_count": 53,
   "metadata": {},
   "outputs": [
    {
     "data": {
      "text/plain": [
       "21"
      ]
     },
     "execution_count": 53,
     "metadata": {},
     "output_type": "execute_result"
    }
   ],
   "source": [
    "len(ans.kQSA(2))"
   ]
  },
  {
   "cell_type": "code",
   "execution_count": 100,
   "metadata": {},
   "outputs": [
    {
     "data": {
      "text/plain": [
       "0.016540925396915828"
      ]
     },
     "execution_count": 100,
     "metadata": {},
     "output_type": "execute_result"
    }
   ],
   "source": [
    "np.linalg.det(result2.hess_inv)"
   ]
  },
  {
   "cell_type": "code",
   "execution_count": 101,
   "metadata": {},
   "outputs": [
    {
     "data": {
      "text/plain": [
       "2.15435109624222"
      ]
     },
     "execution_count": 101,
     "metadata": {},
     "output_type": "execute_result"
    }
   ],
   "source": [
    "np.linalg.norm(result2.x)"
   ]
  },
  {
   "cell_type": "code",
   "execution_count": 79,
   "metadata": {},
   "outputs": [
    {
     "data": {
      "text/plain": [
       "33.24016934145746"
      ]
     },
     "execution_count": 79,
     "metadata": {},
     "output_type": "execute_result"
    }
   ],
   "source": [
    "np.linalg.det(result22.hess_inv)"
   ]
  },
  {
   "cell_type": "code",
   "execution_count": 80,
   "metadata": {
    "scrolled": true
   },
   "outputs": [
    {
     "data": {
      "text/plain": [
       "2.282725218990763"
      ]
     },
     "execution_count": 80,
     "metadata": {},
     "output_type": "execute_result"
    }
   ],
   "source": [
    "np.linalg.norm(result22.x)"
   ]
  },
  {
   "cell_type": "code",
   "execution_count": 113,
   "metadata": {},
   "outputs": [
    {
     "data": {
      "text/plain": [
       "2.1871006989053017e+26"
      ]
     },
     "execution_count": 113,
     "metadata": {},
     "output_type": "execute_result"
    }
   ],
   "source": [
    "np.linalg.det(result222.hess_inv)"
   ]
  },
  {
   "cell_type": "code",
   "execution_count": 114,
   "metadata": {},
   "outputs": [
    {
     "data": {
      "text/plain": [
       "2.1501255330808937"
      ]
     },
     "execution_count": 114,
     "metadata": {},
     "output_type": "execute_result"
    }
   ],
   "source": [
    "np.linalg.norm(result222.x)"
   ]
  },
  {
   "cell_type": "code",
   "execution_count": 81,
   "metadata": {},
   "outputs": [
    {
     "data": {
      "text/plain": [
       "9.110617335326542e-05"
      ]
     },
     "execution_count": 81,
     "metadata": {},
     "output_type": "execute_result"
    }
   ],
   "source": [
    "np.linalg.det(result3.hess_inv)"
   ]
  },
  {
   "cell_type": "code",
   "execution_count": 82,
   "metadata": {
    "scrolled": true
   },
   "outputs": [
    {
     "data": {
      "text/plain": [
       "2.509382029096439"
      ]
     },
     "execution_count": 82,
     "metadata": {},
     "output_type": "execute_result"
    }
   ],
   "source": [
    "np.linalg.norm(result3.x)"
   ]
  },
  {
   "cell_type": "code",
   "execution_count": 115,
   "metadata": {},
   "outputs": [
    {
     "data": {
      "text/plain": [
       "0.00022373681347515536"
      ]
     },
     "execution_count": 115,
     "metadata": {},
     "output_type": "execute_result"
    }
   ],
   "source": [
    "np.linalg.det(result4.hess_inv)"
   ]
  },
  {
   "cell_type": "code",
   "execution_count": 116,
   "metadata": {},
   "outputs": [
    {
     "data": {
      "text/plain": [
       "1.5610386731173602"
      ]
     },
     "execution_count": 116,
     "metadata": {},
     "output_type": "execute_result"
    }
   ],
   "source": [
    "np.linalg.norm(result4.x)"
   ]
  },
  {
   "cell_type": "code",
   "execution_count": 75,
   "metadata": {},
   "outputs": [],
   "source": [
    "matrix2=np.log(result2.hess_inv*result2.hess_inv)"
   ]
  },
  {
   "cell_type": "code",
   "execution_count": 76,
   "metadata": {},
   "outputs": [
    {
     "data": {
      "image/png": "[encoded data removed]",
      "text/plain": [
       "<Figure size 432x288 with 2 Axes>"
      ]
     },
     "metadata": {},
     "output_type": "display_data"
    }
   ],
   "source": [
    "import numpy as np\n",
    "import matplotlib.pyplot as plt\n",
    "\n",
    "plt.imshow(matrix2);\n",
    "plt.colorbar()\n",
    "plt.show()"
   ]
  },
  {
   "cell_type": "code",
   "execution_count": 105,
   "metadata": {},
   "outputs": [],
   "source": [
    "matrix22=np.log(result22.hess_inv*result22.hess_inv)"
   ]
  },
  {
   "cell_type": "code",
   "execution_count": 106,
   "metadata": {
    "scrolled": true
   },
   "outputs": [
    {
     "data": {
      "image/png": "[encoded data removed]",
      "text/plain": [
       "<Figure size 432x288 with 2 Axes>"
      ]
     },
     "metadata": {},
     "output_type": "display_data"
    }
   ],
   "source": [
    "import numpy as np\n",
    "import matplotlib.pyplot as plt\n",
    "\n",
    "plt.imshow(matrix22);\n",
    "plt.colorbar()\n",
    "plt.show()"
   ]
  },
  {
   "cell_type": "code",
   "execution_count": 125,
   "metadata": {},
   "outputs": [],
   "source": [
    "matrix222=np.log(result222.hess_inv*result222.hess_inv)"
   ]
  },
  {
   "cell_type": "code",
   "execution_count": 126,
   "metadata": {},
   "outputs": [
    {
     "data": {
      "image/png": "[encoded data removed]",
      "text/plain": [
       "<Figure size 432x288 with 2 Axes>"
      ]
     },
     "metadata": {},
     "output_type": "display_data"
    }
   ],
   "source": [
    "import numpy as np\n",
    "import matplotlib.pyplot as plt\n",
    "\n",
    "plt.imshow(matrix222);\n",
    "plt.colorbar()\n",
    "plt.show()"
   ]
  },
  {
   "cell_type": "code",
   "execution_count": 107,
   "metadata": {},
   "outputs": [],
   "source": [
    "matrix3=np.log(result3.hess_inv*result3.hess_inv)"
   ]
  },
  {
   "cell_type": "code",
   "execution_count": 108,
   "metadata": {},
   "outputs": [
    {
     "data": {
      "image/png": "[encoded data removed]",
      "text/plain": [
       "<Figure size 432x288 with 2 Axes>"
      ]
     },
     "metadata": {},
     "output_type": "display_data"
    }
   ],
   "source": [
    "import numpy as np\n",
    "import matplotlib.pyplot as plt\n",
    "\n",
    "plt.imshow(matrix3);\n",
    "plt.colorbar()\n",
    "plt.show()"
   ]
  },
  {
   "cell_type": "code",
   "execution_count": 131,
   "metadata": {},
   "outputs": [],
   "source": [
    "matrix4=np.log(result4.hess_inv*result4.hess_inv)"
   ]
  },
  {
   "cell_type": "code",
   "execution_count": 132,
   "metadata": {},
   "outputs": [
    {
     "data": {
      "image/png": "[encoded data removed]",
      "text/plain": [
       "<Figure size 432x288 with 2 Axes>"
      ]
     },
     "metadata": {},
     "output_type": "display_data"
    }
   ],
   "source": [
    "import numpy as np\n",
    "import matplotlib.pyplot as plt\n",
    "\n",
    "plt.imshow(matrix4);\n",
    "plt.colorbar()\n",
    "plt.show()"
   ]
  },
  {
   "cell_type": "code",
   "execution_count": 10,
   "metadata": {},
   "outputs": [
    {
     "data": {
      "text/plain": [
       "array([[ 0.2+0.j,  0. +0.j,  0. +0.j,  0. +0.j],\n",
       "       [ 0. +0.j,  0. +0.j,  0. +0.j,  0. +0.j],\n",
       "       [ 0. +0.j,  0. +0.j,  0. +0.j,  0. +0.j],\n",
       "       [ 0. +0.j,  0. +0.j,  0. +0.j, -0.2+0.j]])"
      ]
     },
     "execution_count": 10,
     "metadata": {},
     "output_type": "execute_result"
    }
   ],
   "source": [
    "ham.constant_subhamiltonian(0.1,ham.single_qubit_paulis(3))"
   ]
  },
  {
   "cell_type": "code",
   "execution_count": null,
   "metadata": {},
   "outputs": [],
   "source": []
  }
 ],
 "metadata": {
  "kernelspec": {
   "display_name": "Python [conda env:test]",
   "language": "python",
   "name": "conda-env-test-py"
  },
  "language_info": {
   "codemirror_mode": {
    "name": "ipython",
    "version": 3
   },
   "file_extension": ".py",
   "mimetype": "text/x-python",
   "name": "python",
   "nbconvert_exporter": "python",
   "pygments_lexer": "ipython3",
   "version": "3.6.4"
  }
 },
 "nbformat": 4,
 "nbformat_minor": 2
}
